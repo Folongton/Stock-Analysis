{
 "cells": [
  {
   "attachments": {},
   "cell_type": "markdown",
   "metadata": {},
   "source": [
    "Technical Analysis libraries:   \n",
    "* pip install TA-Lib         ---- 150 + indicators, supports work with pandasd. TA-Lib is the golden standard, but it is not the easiest one to understand and dive deep into.\n",
    "* pip install --upgrade ta   ---- 42 indicators, supports work with pandas. ( Can run all 42 indicators in one line of code).  \n",
    "* pip install pandas_ta      ---- 130+ indicators, supports work with pandas.   \n",
    "\n",
    "*** Read more here : https://medium.com/geekculture/top-4-python-libraries-for-technical-analysis-db4f1ea87e09\n",
    "\n",
    "Portfolio Assessment libraries:\n",
    "* pip install pyfolio -- Portfolio analysis (seems like it is not supported anymore)\n",
    "   \n"
   ]
  },
  {
   "cell_type": "code",
   "execution_count": 56,
   "metadata": {},
   "outputs": [],
   "source": [
    "import requests as r\n",
    "import pandas as pd \n",
    "import numpy as np\n",
    "import json as j\n",
    "import time\n",
    "import matplotlib.pyplot as plt\n",
    "import matplotlib.dates as mdates\n",
    "import matplotlib.ticker as mticker\n",
    "import mplfinance as mpf\n",
    "\n",
    "KEY = '4239092CFMPXI6YI' # alphavantage.co API key\n",
    "STOCK_LIST = ['MSFT','TSLA','BABA','VZ','AAPL', 'NEM'] # "
   ]
  },
  {
   "attachments": {},
   "cell_type": "markdown",
   "metadata": {},
   "source": [
    "### Getting data from aplha vantage API and storing it in csv files"
   ]
  },
  {
   "attachments": {},
   "cell_type": "markdown",
   "metadata": {},
   "source": [
    "Daily data:"
   ]
  },
  {
   "cell_type": "code",
   "execution_count": 3,
   "metadata": {},
   "outputs": [],
   "source": [
    "def get_daily_adjusted_data(ticker,key):\n",
    "    url_json = f'https://www.alphavantage.co/query?function=TIME_SERIES_DAILY_ADJUSTED&symbol={ticker}&apikey={key}&outputsize=full'\n",
    "    response = r.get(url_json)\n",
    "    j_response = response.json()\n",
    "    formated_response = j.dumps(j_response, indent=4)\n",
    "    return formated_response"
   ]
  },
  {
   "cell_type": "code",
   "execution_count": 4,
   "metadata": {},
   "outputs": [],
   "source": [
    "# for ticker in STOCK_LIST:\n",
    "#     data = get_daily_adjusted_data(ticker,KEY)\n",
    "#     data = j.loads(data)\n",
    "#     data = data['Time Series (60min)']\n",
    "#     df = pd.DataFrame(data)\n",
    "#     df = df.transpose()\n",
    "#     df.to_csv(f'..\\P1-Indicators-Chart-Analysis\\Data\\Daily\\{ticker}-hourly.csv')"
   ]
  },
  {
   "attachments": {},
   "cell_type": "markdown",
   "metadata": {},
   "source": [
    "Hourly data: (for the last 2 years)"
   ]
  },
  {
   "cell_type": "code",
   "execution_count": 5,
   "metadata": {},
   "outputs": [],
   "source": [
    "def get_intraday_extended_data(ticker,key,interval='60min',slice='year1month1'):\n",
    "    if slice == '2yearData':\n",
    "        months = ['1','2','3','4','5','6','7','8','9','10','11','12']\n",
    "        years = ['1','2']\n",
    "        with open(f'..\\P1-Indicators-Chart-Analysis\\Data\\Hourly\\{ticker}-2years-hourly.csv', 'w') as f:\n",
    "            for year in years:\n",
    "                for month in months:\n",
    "                    slice = f'year{year}month{month}'\n",
    "                    url_json = f'https://www.alphavantage.co/query?function=TIME_SERIES_INTRADAY_EXTENDED&symbol={ticker}&interval={interval}&slice={slice}&apikey={key}'\n",
    "                    response = r.get(url_json)\n",
    "                    f.write(response.text)\n",
    "                    time.sleep(13) # API limit is 5 calls per minute\n",
    "    else:\n",
    "        url_json = f'https://www.alphavantage.co/query?function=TIME_SERIES_INTRADAY_EXTENDED&symbol={ticker}&interval={interval}&slice={slice}&apikey={key}'\n",
    "        response = r.get(url_json)\n",
    "        with open(f'..\\P1-Indicators-Chart-Analysis\\Data\\Hourly\\{ticker}-30days-hourly.csv', 'w') as f:\n",
    "            f.write(response.text)"
   ]
  },
  {
   "cell_type": "code",
   "execution_count": 6,
   "metadata": {},
   "outputs": [],
   "source": [
    "# for ticker in STOCK_LIST:\n",
    "#     get_intraday_extended_data(ticker,KEY,slice='2yearData')"
   ]
  },
  {
   "attachments": {},
   "cell_type": "markdown",
   "metadata": {},
   "source": [
    "### Data Visualization and Chart Analysis"
   ]
  },
  {
   "cell_type": "code",
   "execution_count": 111,
   "metadata": {},
   "outputs": [],
   "source": [
    "# load data from csvs\n",
    "aapl_d = pd.read_csv(r'..\\P1-Indicators-Chart-Analysis\\Data\\Daily\\AAPL-daily.csv')\n",
    "baba_d = pd.read_csv(r'..\\P1-Indicators-Chart-Analysis\\Data\\Daily\\BABA-daily.csv')\n",
    "msft_d = pd.read_csv(r'..\\P1-Indicators-Chart-Analysis\\Data\\Daily\\MSFT-daily.csv')\n",
    "nem_d = pd.read_csv(r'..\\P1-Indicators-Chart-Analysis\\Data\\Daily\\NEM-daily.csv')\n",
    "tsla_d = pd.read_csv(r'..\\P1-Indicators-Chart-Analysis\\Data\\Daily\\TSLA-daily.csv')\n",
    "vz_d = pd.read_csv(r'..\\P1-Indicators-Chart-Analysis\\Data\\Daily\\VZ-daily.csv')\n",
    "# aapl_d = aapl_d.iloc[::-1]\n",
    "# baba_d = baba_d.iloc[::-1]\n",
    "# msft_d = msft_d.iloc[::-1]\n",
    "# nem_d = nem_d.iloc[::-1]\n",
    "# tsla_d = tsla_d.iloc[::-1]\n",
    "# vz_d = vz_d.iloc[::-1]\n",
    "\n",
    "aapl_d.set_index('Unnamed: 0', inplace=True)\n",
    "baba_d.set_index('Unnamed: 0', inplace=True)\n",
    "msft_d.set_index('Unnamed: 0', inplace=True)\n",
    "nem_d.set_index('Unnamed: 0', inplace=True)\n",
    "tsla_d.set_index('Unnamed: 0', inplace=True)\n",
    "vz_d.set_index('Unnamed: 0', inplace=True)\n",
    "\n",
    "aapl_d.index.rename('Date', inplace=True)\n",
    "baba_d.index.rename('Date', inplace=True)\n",
    "msft_d.index.rename('Date', inplace=True)\n",
    "nem_d.index.rename('Date', inplace=True)\n",
    "tsla_d.index.rename('Date', inplace=True)\n",
    "vz_d.index.rename('Date', inplace=True)\n",
    "\n",
    "aapl_d.index = aapl_d.index.astype('datetime64')\n",
    "baba_d.index = baba_d.index.astype('datetime64')\n",
    "msft_d.index = msft_d.index.astype('datetime64')\n",
    "nem_d.index = nem_d.index.astype('datetime64')\n",
    "tsla_d.index = tsla_d.index.astype('datetime64')\n",
    "vz_d.index = vz_d.index.astype('datetime64')"
   ]
  },
  {
   "cell_type": "code",
   "execution_count": 104,
   "metadata": {},
   "outputs": [
    {
     "data": {
      "text/html": [
       "<div>\n",
       "<style scoped>\n",
       "    .dataframe tbody tr th:only-of-type {\n",
       "        vertical-align: middle;\n",
       "    }\n",
       "\n",
       "    .dataframe tbody tr th {\n",
       "        vertical-align: top;\n",
       "    }\n",
       "\n",
       "    .dataframe thead th {\n",
       "        text-align: right;\n",
       "    }\n",
       "</style>\n",
       "<table border=\"1\" class=\"dataframe\">\n",
       "  <thead>\n",
       "    <tr style=\"text-align: right;\">\n",
       "      <th></th>\n",
       "      <th>1. open</th>\n",
       "      <th>2. high</th>\n",
       "      <th>3. low</th>\n",
       "      <th>4. close</th>\n",
       "      <th>5. adjusted close</th>\n",
       "      <th>6. volume</th>\n",
       "      <th>7. dividend amount</th>\n",
       "      <th>8. split coefficient</th>\n",
       "    </tr>\n",
       "    <tr>\n",
       "      <th>Date</th>\n",
       "      <th></th>\n",
       "      <th></th>\n",
       "      <th></th>\n",
       "      <th></th>\n",
       "      <th></th>\n",
       "      <th></th>\n",
       "      <th></th>\n",
       "      <th></th>\n",
       "    </tr>\n",
       "  </thead>\n",
       "  <tbody>\n",
       "    <tr>\n",
       "      <th>2023-03-10</th>\n",
       "      <td>150.210</td>\n",
       "      <td>150.940</td>\n",
       "      <td>147.6096</td>\n",
       "      <td>148.50</td>\n",
       "      <td>148.50</td>\n",
       "      <td>68572400</td>\n",
       "      <td>0.0</td>\n",
       "      <td>1.0</td>\n",
       "    </tr>\n",
       "    <tr>\n",
       "      <th>2023-03-09</th>\n",
       "      <td>153.559</td>\n",
       "      <td>154.535</td>\n",
       "      <td>150.2250</td>\n",
       "      <td>150.59</td>\n",
       "      <td>150.59</td>\n",
       "      <td>53833582</td>\n",
       "      <td>0.0</td>\n",
       "      <td>1.0</td>\n",
       "    </tr>\n",
       "  </tbody>\n",
       "</table>\n",
       "</div>"
      ],
      "text/plain": [
       "            1. open  2. high    3. low  4. close  5. adjusted close  \\\n",
       "Date                                                                  \n",
       "2023-03-10  150.210  150.940  147.6096    148.50             148.50   \n",
       "2023-03-09  153.559  154.535  150.2250    150.59             150.59   \n",
       "\n",
       "            6. volume  7. dividend amount  8. split coefficient  \n",
       "Date                                                             \n",
       "2023-03-10   68572400                 0.0                   1.0  \n",
       "2023-03-09   53833582                 0.0                   1.0  "
      ]
     },
     "execution_count": 104,
     "metadata": {},
     "output_type": "execute_result"
    }
   ],
   "source": [
    "aapl_d.head(2)"
   ]
  },
  {
   "attachments": {},
   "cell_type": "markdown",
   "metadata": {},
   "source": [
    "Check if data is actually adjusted for splits and dividends as it should be per the API documentation:"
   ]
  },
  {
   "cell_type": "code",
   "execution_count": 98,
   "metadata": {},
   "outputs": [
    {
     "data": {
      "text/plain": [
       "1.000000    5873\n",
       "2.000000       2\n",
       "4.000000       1\n",
       "7.000007       1\n",
       "Name: 8. split coefficient, dtype: int64"
      ]
     },
     "execution_count": 98,
     "metadata": {},
     "output_type": "execute_result"
    }
   ],
   "source": [
    "aapl_d['8. split coefficient'].value_counts()"
   ]
  },
  {
   "cell_type": "code",
   "execution_count": 112,
   "metadata": {},
   "outputs": [
    {
     "data": {
      "text/html": [
       "<div>\n",
       "<style scoped>\n",
       "    .dataframe tbody tr th:only-of-type {\n",
       "        vertical-align: middle;\n",
       "    }\n",
       "\n",
       "    .dataframe tbody tr th {\n",
       "        vertical-align: top;\n",
       "    }\n",
       "\n",
       "    .dataframe thead th {\n",
       "        text-align: right;\n",
       "    }\n",
       "</style>\n",
       "<table border=\"1\" class=\"dataframe\">\n",
       "  <thead>\n",
       "    <tr style=\"text-align: right;\">\n",
       "      <th></th>\n",
       "      <th>1. open</th>\n",
       "      <th>2. high</th>\n",
       "      <th>3. low</th>\n",
       "      <th>4. close</th>\n",
       "      <th>5. adjusted close</th>\n",
       "      <th>6. volume</th>\n",
       "      <th>7. dividend amount</th>\n",
       "      <th>8. split coefficient</th>\n",
       "    </tr>\n",
       "    <tr>\n",
       "      <th>Date</th>\n",
       "      <th></th>\n",
       "      <th></th>\n",
       "      <th></th>\n",
       "      <th></th>\n",
       "      <th></th>\n",
       "      <th></th>\n",
       "      <th></th>\n",
       "      <th></th>\n",
       "    </tr>\n",
       "  </thead>\n",
       "  <tbody>\n",
       "    <tr>\n",
       "      <th>2020-08-31</th>\n",
       "      <td>127.58</td>\n",
       "      <td>131.00</td>\n",
       "      <td>126.00</td>\n",
       "      <td>129.04</td>\n",
       "      <td>126.935683</td>\n",
       "      <td>223505733</td>\n",
       "      <td>0.0</td>\n",
       "      <td>4</td>\n",
       "    </tr>\n",
       "    <tr>\n",
       "      <th>2014-06-09</th>\n",
       "      <td>92.70</td>\n",
       "      <td>93.88</td>\n",
       "      <td>91.75</td>\n",
       "      <td>93.70</td>\n",
       "      <td>20.831391</td>\n",
       "      <td>75414997</td>\n",
       "      <td>0.0</td>\n",
       "      <td>7</td>\n",
       "    </tr>\n",
       "    <tr>\n",
       "      <th>2005-02-28</th>\n",
       "      <td>44.68</td>\n",
       "      <td>45.14</td>\n",
       "      <td>43.96</td>\n",
       "      <td>44.86</td>\n",
       "      <td>1.361730</td>\n",
       "      <td>11635900</td>\n",
       "      <td>0.0</td>\n",
       "      <td>2</td>\n",
       "    </tr>\n",
       "    <tr>\n",
       "      <th>2000-06-21</th>\n",
       "      <td>50.50</td>\n",
       "      <td>56.94</td>\n",
       "      <td>50.31</td>\n",
       "      <td>55.63</td>\n",
       "      <td>0.844327</td>\n",
       "      <td>4375000</td>\n",
       "      <td>0.0</td>\n",
       "      <td>2</td>\n",
       "    </tr>\n",
       "  </tbody>\n",
       "</table>\n",
       "</div>"
      ],
      "text/plain": [
       "            1. open  2. high  3. low  4. close  5. adjusted close  6. volume  \\\n",
       "Date                                                                           \n",
       "2020-08-31   127.58   131.00  126.00    129.04         126.935683  223505733   \n",
       "2014-06-09    92.70    93.88   91.75     93.70          20.831391   75414997   \n",
       "2005-02-28    44.68    45.14   43.96     44.86           1.361730   11635900   \n",
       "2000-06-21    50.50    56.94   50.31     55.63           0.844327    4375000   \n",
       "\n",
       "            7. dividend amount  8. split coefficient  \n",
       "Date                                                  \n",
       "2020-08-31                 0.0                     4  \n",
       "2014-06-09                 0.0                     7  \n",
       "2005-02-28                 0.0                     2  \n",
       "2000-06-21                 0.0                     2  "
      ]
     },
     "execution_count": 112,
     "metadata": {},
     "output_type": "execute_result"
    }
   ],
   "source": [
    "splits = aapl_d[~aapl_d['8. split coefficient'].isin([1])].copy(deep=True)\n",
    "splits['8. split coefficient'] = splits['8. split coefficient'].astype('int')\n",
    "splits"
   ]
  },
  {
   "attachments": {},
   "cell_type": "markdown",
   "metadata": {},
   "source": [
    "Quick check online confirms that these are the dates of the splits for AAPL stock.  \n",
    "Let's see if the next day's open price is adjusted for the split."
   ]
  },
  {
   "cell_type": "code",
   "execution_count": 122,
   "metadata": {},
   "outputs": [
    {
     "data": {
      "text/html": [
       "<div>\n",
       "<style scoped>\n",
       "    .dataframe tbody tr th:only-of-type {\n",
       "        vertical-align: middle;\n",
       "    }\n",
       "\n",
       "    .dataframe tbody tr th {\n",
       "        vertical-align: top;\n",
       "    }\n",
       "\n",
       "    .dataframe thead th {\n",
       "        text-align: right;\n",
       "    }\n",
       "</style>\n",
       "<table border=\"1\" class=\"dataframe\">\n",
       "  <thead>\n",
       "    <tr style=\"text-align: right;\">\n",
       "      <th></th>\n",
       "      <th>1. open</th>\n",
       "      <th>2. high</th>\n",
       "      <th>3. low</th>\n",
       "      <th>4. close</th>\n",
       "      <th>5. adjusted close</th>\n",
       "      <th>6. volume</th>\n",
       "      <th>7. dividend amount</th>\n",
       "      <th>8. split coefficient</th>\n",
       "    </tr>\n",
       "    <tr>\n",
       "      <th>Date</th>\n",
       "      <th></th>\n",
       "      <th></th>\n",
       "      <th></th>\n",
       "      <th></th>\n",
       "      <th></th>\n",
       "      <th></th>\n",
       "      <th></th>\n",
       "      <th></th>\n",
       "    </tr>\n",
       "  </thead>\n",
       "  <tbody>\n",
       "    <tr>\n",
       "      <th>2000-06-19</th>\n",
       "      <td>0.808571</td>\n",
       "      <td>0.873839</td>\n",
       "      <td>0.801875</td>\n",
       "      <td>0.862679</td>\n",
       "      <td>0.733228</td>\n",
       "      <td>3517900</td>\n",
       "      <td>0.0</td>\n",
       "      <td>1.0</td>\n",
       "    </tr>\n",
       "    <tr>\n",
       "      <th>2000-06-20</th>\n",
       "      <td>0.879464</td>\n",
       "      <td>0.928036</td>\n",
       "      <td>0.878304</td>\n",
       "      <td>0.904018</td>\n",
       "      <td>0.768364</td>\n",
       "      <td>4476700</td>\n",
       "      <td>0.0</td>\n",
       "      <td>1.0</td>\n",
       "    </tr>\n",
       "    <tr>\n",
       "      <th>2000-06-21</th>\n",
       "      <td>0.901786</td>\n",
       "      <td>1.016786</td>\n",
       "      <td>0.898393</td>\n",
       "      <td>0.993393</td>\n",
       "      <td>0.844327</td>\n",
       "      <td>4375000</td>\n",
       "      <td>0.0</td>\n",
       "      <td>2.0</td>\n",
       "    </tr>\n",
       "    <tr>\n",
       "      <th>2000-06-22</th>\n",
       "      <td>0.995536</td>\n",
       "      <td>1.029107</td>\n",
       "      <td>0.956429</td>\n",
       "      <td>0.959821</td>\n",
       "      <td>0.815794</td>\n",
       "      <td>8352000</td>\n",
       "      <td>0.0</td>\n",
       "      <td>1.0</td>\n",
       "    </tr>\n",
       "    <tr>\n",
       "      <th>2000-06-23</th>\n",
       "      <td>0.960357</td>\n",
       "      <td>0.975536</td>\n",
       "      <td>0.907321</td>\n",
       "      <td>0.923036</td>\n",
       "      <td>0.784528</td>\n",
       "      <td>3660100</td>\n",
       "      <td>0.0</td>\n",
       "      <td>1.0</td>\n",
       "    </tr>\n",
       "    <tr>\n",
       "      <th>2000-06-26</th>\n",
       "      <td>0.937500</td>\n",
       "      <td>0.977679</td>\n",
       "      <td>0.930893</td>\n",
       "      <td>0.966607</td>\n",
       "      <td>0.821561</td>\n",
       "      <td>3309900</td>\n",
       "      <td>0.0</td>\n",
       "      <td>1.0</td>\n",
       "    </tr>\n",
       "  </tbody>\n",
       "</table>\n",
       "</div>"
      ],
      "text/plain": [
       "             1. open   2. high    3. low  4. close  5. adjusted close  \\\n",
       "Date                                                                    \n",
       "2000-06-19  0.808571  0.873839  0.801875  0.862679           0.733228   \n",
       "2000-06-20  0.879464  0.928036  0.878304  0.904018           0.768364   \n",
       "2000-06-21  0.901786  1.016786  0.898393  0.993393           0.844327   \n",
       "2000-06-22  0.995536  1.029107  0.956429  0.959821           0.815794   \n",
       "2000-06-23  0.960357  0.975536  0.907321  0.923036           0.784528   \n",
       "2000-06-26  0.937500  0.977679  0.930893  0.966607           0.821561   \n",
       "\n",
       "            6. volume  7. dividend amount  8. split coefficient  \n",
       "Date                                                             \n",
       "2000-06-19    3517900                 0.0                   1.0  \n",
       "2000-06-20    4476700                 0.0                   1.0  \n",
       "2000-06-21    4375000                 0.0                   2.0  \n",
       "2000-06-22    8352000                 0.0                   1.0  \n",
       "2000-06-23    3660100                 0.0                   1.0  \n",
       "2000-06-26    3309900                 0.0                   1.0  "
      ]
     },
     "execution_count": 122,
     "metadata": {},
     "output_type": "execute_result"
    }
   ],
   "source": [
    "aapl_d.loc['2000-06-19':'2000-06-26':-1]\n",
    "# aapl_d.loc['2005-02-24':'2005-03-01':-1]\n",
    "# aapl_d.loc['2014-06-06':'2014-06-11':-1]\n",
    "# aapl_d.loc['2020-08-27':'2020-09-02':-1]"
   ]
  },
  {
   "attachments": {},
   "cell_type": "markdown",
   "metadata": {},
   "source": [
    "As we can see the column \"5. adjusted close\" indicates the adjusted close price for the split. Great.   \n",
    "However to use some of the indicators we need to use the high, low, open and close prices."
   ]
  },
  {
   "cell_type": "code",
   "execution_count": 113,
   "metadata": {},
   "outputs": [],
   "source": [
    "from datetime import timedelta\n",
    "for split in splits.index:\n",
    "    aapl_d.loc[split-timedelta(days=1):,'1. open'] = aapl_d.loc[split:,'1. open'] / splits.loc[split,'8. split coefficient']\n",
    "    aapl_d.loc[split-timedelta(days=1):,'2. high'] = aapl_d.loc[split:,'2. high'] / splits.loc[split,'8. split coefficient']\n",
    "    aapl_d.loc[split-timedelta(days=1):,'3. low'] = aapl_d.loc[split:,'3. low'] / splits.loc[split,'8. split coefficient']\n",
    "    aapl_d.loc[split-timedelta(days=1):,'4. close'] = aapl_d.loc[split:,'4. close'] / splits.loc[split,'8. split coefficient']\n",
    "    "
   ]
  },
  {
   "cell_type": "code",
   "execution_count": null,
   "metadata": {},
   "outputs": [],
   "source": [
    "aapl_d.loc['2000-06-19':'2000-06-26':-1]\n",
    "# aapl_d.loc['2005-02-24':'2005-03-01':-1]\n",
    "# aapl_d.loc['2014-06-06':'2014-06-11':-1]\n",
    "# aapl_d.loc['2020-08-27':'2020-09-02':-1]"
   ]
  },
  {
   "attachments": {},
   "cell_type": "markdown",
   "metadata": {},
   "source": [
    "#### Plotting stock price and volume for the last 10 years"
   ]
  },
  {
   "cell_type": "code",
   "execution_count": 131,
   "metadata": {},
   "outputs": [
    {
     "name": "stderr",
     "output_type": "stream",
     "text": [
      "C:\\Users\\Vasyl\\AppData\\Local\\Temp\\ipykernel_17892\\987445457.py:2: FutureWarning: Value based partial slicing on non-monotonic DatetimeIndexes with non-existing keys is deprecated and will raise a KeyError in a future Version.\n",
      "  aapl_d_2y = aapl_d.loc['2023-01-01':'2023-03-10':-1]\n"
     ]
    }
   ],
   "source": [
    "# Plot Appl stock price and volume over 2 years\n",
    "aapl_d_2y = aapl_d.loc['2023-01-01':'2023-03-10':-1]\n",
    "aapl_d_2y = aapl_d_2y.rename(columns={'1. open':'Open','2. high':'High','3. low':'Low','4. close':'Close','6. volume':'Volume'})\n"
   ]
  },
  {
   "cell_type": "code",
   "execution_count": 133,
   "metadata": {},
   "outputs": [
    {
     "data": {
      "image/png": "[encoded data removed]",
      "text/plain": [
       "<Figure size 800x575 with 4 Axes>"
      ]
     },
     "metadata": {},
     "output_type": "display_data"
    }
   ],
   "source": [
    "mpf.plot(aapl_d_2y, type=\"candle\", mav=(10, 20), volume=True)"
   ]
  },
  {
   "cell_type": "code",
   "execution_count": null,
   "metadata": {},
   "outputs": [],
   "source": []
  }
 ],
 "metadata": {
  "kernelspec": {
   "display_name": ".venv",
   "language": "python",
   "name": "python3"
  },
  "language_info": {
   "codemirror_mode": {
    "name": "ipython",
    "version": 3
   },
   "file_extension": ".py",
   "mimetype": "text/x-python",
   "name": "python",
   "nbconvert_exporter": "python",
   "pygments_lexer": "ipython3",
   "version": "3.9.2"
  },
  "orig_nbformat": 4,
  "vscode": {
   "interpreter": {
    "hash": "b238a6e0536000141911e06cf39f46cc77433b0ec18bbd8ecdd5b11d9c789ca0"
   }
  }
 },
 "nbformat": 4,
 "nbformat_minor": 2
}
